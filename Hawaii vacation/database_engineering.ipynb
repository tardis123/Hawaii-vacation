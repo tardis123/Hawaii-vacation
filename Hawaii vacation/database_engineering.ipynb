{
 "cells": [
  {
   "cell_type": "markdown",
   "metadata": {},
   "source": [
    "# Database engineering\n",
    "\n",
    "In this section we'll create:\n",
    "\n",
    "+ table schemas using SQLAlchemy ORM\n",
    "+ create a database in SQLite\n",
    "+ load the cleaned Hawaii climate data into pandas dataframes\n",
    "+ upload the data from the pandas dataframes into the SQLite database"
   ]
  },
  {
   "cell_type": "code",
   "execution_count": 1,
   "metadata": {},
   "outputs": [],
   "source": [
    "# Dependencies\n",
    "import pandas as pd\n",
    "import sqlite3\n",
    "from sqlalchemy import Column, ForeignKey, Integer, String\n",
    "from sqlalchemy.ext.declarative import declarative_base\n",
    "from sqlalchemy.orm import relationship, create_session\n",
    "from sqlalchemy import create_engine, MetaData\n",
    "from sqlalchemy.ext.automap import automap_base"
   ]
  },
  {
   "cell_type": "code",
   "execution_count": 2,
   "metadata": {},
   "outputs": [],
   "source": [
    "# Define and create a database engine \n",
    "engine = create_engine('sqlite:///hawaii.sqlite', echo=False)"
   ]
  },
  {
   "cell_type": "code",
   "execution_count": 3,
   "metadata": {},
   "outputs": [],
   "source": [
    "# Use SQLAlchemy to create a database table schema\n",
    "Base = declarative_base()\n",
    "\n",
    "class Station(Base):\n",
    "\n",
    "    __tablename__ = \"station\"\n",
    "\n",
    "    station_id = Column(Integer, primary_key=True)\n",
    "    station = Column(String, nullable=False)\n",
    "    name = Column(String, nullable=False)\n",
    "    latitude = Column(Integer, nullable=False)\n",
    "    longitude = Column(Integer, nullable=False)\n",
    "    elevation = Column(Integer, nullable=False)\n",
    "    \n",
    "    children = relationship(\"measurement\", back_populates=\"parent\")\n",
    "    \n",
    "    def __init__(self, name):\n",
    "\n",
    "        self.name = name\n",
    "      \n",
    "class Measurement(Base):\n",
    "    \n",
    "    __tablename__ = \"measurement\"\n",
    "    \n",
    "    measurement_id = Column(Integer, primary_key=True)\n",
    "    station = Column(String)\n",
    "    date = Column(String)\n",
    "    prcp = Column(Integer)\n",
    "    tobs = Column(Integer)    \n",
    "       \n",
    "    parent = relationship(\"station\", back_populates=\"parent\")\n",
    "    \n",
    "    def __init__(self, name):\n",
    "\n",
    "        self.name = name    \n",
    "\n",
    "# Generate schema\n",
    "Base.metadata.create_all(engine)"
   ]
  },
  {
   "cell_type": "code",
   "execution_count": 5,
   "metadata": {},
   "outputs": [],
   "source": [
    "# Reflect database into a new model\n",
    "Base = automap_base()\n",
    "# Reflect tables\n",
    "Base.prepare(engine)\n",
    "\n",
    "# Access and reflect metadata \n",
    "metadata = MetaData(bind=engine)\n",
    "metadata.reflect()\n",
    "# Create database session object\n",
    "session = create_session(bind = engine)"
   ]
  },
  {
   "cell_type": "code",
   "execution_count": 6,
   "metadata": {},
   "outputs": [],
   "source": [
    "# Check whether classes and tables exist\n",
    "for mappedclass in Base.classes:\n",
    "    print(mappedclass)\n",
    "\n",
    "for mdtable in Base.metadata.tables:\n",
    "    print(mdtable)"
   ]
  },
  {
   "cell_type": "code",
   "execution_count": 7,
   "metadata": {},
   "outputs": [],
   "source": [
    "# Define SQLite connection and cursor\n",
    "conn = sqlite3.connect(\"hawaii.sqlite\")\n",
    "cur = conn.cursor()"
   ]
  },
  {
   "cell_type": "code",
   "execution_count": 8,
   "metadata": {},
   "outputs": [
    {
     "data": {
      "text/plain": [
       "<sqlite3.Cursor at 0x1f526651110>"
      ]
     },
     "execution_count": 8,
     "metadata": {},
     "output_type": "execute_result"
    }
   ],
   "source": [
    "# Delete any existing table data (for test purposes only)\n",
    "# https://stackoverflow.com/questions/11233128/how-to-clean-the-database-dropping-all-records-using-sqlalchemy\n",
    "for tbl in metadata.sorted_tables:\n",
    "    engine.execute(tbl.delete())\n",
    "conn.commit()\n",
    "## Compact SQLite file\n",
    "conn.execute(\"VACUUM\")"
   ]
  },
  {
   "cell_type": "code",
   "execution_count": 9,
   "metadata": {},
   "outputs": [],
   "source": [
    "# Load clean data\n",
    "station_df = pd.read_csv(\"clean_hawaii_stations.csv\")\n",
    "measurement_df = pd.read_csv(\"clean_hawaii_measurements.csv\")"
   ]
  },
  {
   "cell_type": "code",
   "execution_count": 10,
   "metadata": {},
   "outputs": [],
   "source": [
    "# Append data to SQLAlchemy tables\n",
    "station_df.to_sql('station', conn, if_exists='append', index=False)\n",
    "measurement_df.to_sql('measurement', conn, if_exists='append', index=False)"
   ]
  },
  {
   "cell_type": "code",
   "execution_count": 11,
   "metadata": {},
   "outputs": [],
   "source": [
    "# Close connection\n",
    "conn.close()"
   ]
  }
 ],
 "metadata": {
  "kernelspec": {
   "display_name": "Python 3",
   "language": "python",
   "name": "python3"
  },
  "language_info": {
   "codemirror_mode": {
    "name": "ipython",
    "version": 3
   },
   "file_extension": ".py",
   "mimetype": "text/x-python",
   "name": "python",
   "nbconvert_exporter": "python",
   "pygments_lexer": "ipython3",
   "version": "3.6.4"
  }
 },
 "nbformat": 4,
 "nbformat_minor": 2
}
