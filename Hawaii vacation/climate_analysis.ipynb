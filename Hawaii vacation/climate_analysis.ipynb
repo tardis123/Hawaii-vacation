{
 "cells": [
  {
   "cell_type": "markdown",
   "metadata": {},
   "source": [
    "# Climate Analysis and Exploration\n",
    "\n",
    "In this section basic analysis will be done:\n",
    "\n",
    "+ precipitation analysis\n",
    "+ station analysis\n",
    "+ temperature analysis\n",
    "\n",
    "For all above section queries will have to be built using SQLAlchemy.\n",
    "All queries have been defined as functions and can be found in the py file called session_queries.py\n",
    "This py file must be imported to run any analysis.\n",
    "\n",
    "Below plots were created:\n",
    "\n",
    "1. (**line plot**) precipitation over the last year (going back one year as from the most recent measurement date)\n",
    "2. (**histogram**) temperature frequencies over the last year for the station (WAIHEE 837.5, HI US) \n",
    "  with the most observation counts (2772)\n",
    "3. (**bar chart**) daily normals (min, max and avg temperature) for your planned trip\n",
    "4. (**stacked plot**) daily normals (min, max and avg temperature) for your planned trip\n",
    "\n",
    "Below data is shown:\n",
    "\n",
    "+ summary statistics for the precipitation data used in 1\n",
    "+ number of weather stations\n",
    "+ observation counts per station in descending order\n",
    "+ most active station (station with most observations)\n",
    "+ temperature normals for your planned trip\n",
    "+ rainfall per weather station for previous year's matching dates (based on planned trip dates)\n",
    "+ daily normals (min, max and avg temperature) for a specific date (in date format YY-MM)"
   ]
  },
  {
   "cell_type": "code",
   "execution_count": 1,
   "metadata": {},
   "outputs": [],
   "source": [
    "# Declare dependencies\n",
    "import pandas as pd\n",
    "import numpy as np\n",
    "from datetime import date, datetime, timedelta\n",
    "import matplotlib.dates as md\n",
    "import matplotlib.pyplot as plt\n",
    "import session_queries as sq"
   ]
  },
  {
   "cell_type": "markdown",
   "metadata": {},
   "source": [
    "# Precipitation Analysis"
   ]
  },
  {
   "cell_type": "code",
   "execution_count": 2,
   "metadata": {},
   "outputs": [],
   "source": [
    "# Convert to pandas dataframe\n",
    "precipitation_df = pd.DataFrame(sq.prec_last_12_months())"
   ]
  },
  {
   "cell_type": "code",
   "execution_count": 3,
   "metadata": {},
   "outputs": [],
   "source": [
    "# Convert \"date\" data to datetime and set index on date\n",
    "precipitation_df['date'] = pd.to_datetime(precipitation_df[\"date\"]).dt.date\n",
    "precipitation_df.set_index([\"date\"], inplace = True)"
   ]
  },
  {
   "cell_type": "code",
   "execution_count": 4,
   "metadata": {},
   "outputs": [
    {
     "data": {
      "image/png": "[encoded data removed]",
      "text/plain": [
       "<matplotlib.figure.Figure at 0x23925ab8cc0>"
      ]
     },
     "metadata": {},
     "output_type": "display_data"
    }
   ],
   "source": [
    "# Plot precipitation against date using plotting Dataframe accessor and method\n",
    "\n",
    "# Variables\n",
    "min_date = precipitation_df.index.min()\n",
    "max_date = precipitation_df.index.max()\n",
    "\n",
    "# Create line plot\n",
    "precipitation_df.plot(kind = \"line\", linewidth = 4)\n",
    "\n",
    "# Set labels and title\n",
    "plt.xlabel(\"Date\", fontweight = 'bold', size = 16)\n",
    "plt.title(f\"Precipication between {(datetime.strptime(sq.first_date()[0],'%Y-%m-%d').date() + timedelta(days=1)).strftime('%Y-%m-%d')} and {sq.first_date()[1]}\")\n",
    "\n",
    "# Set scale range\n",
    "plt.xlim(min_date, max_date)\n",
    "\n",
    "# Format data (dates) on x axis\n",
    "ax=plt.gca()\n",
    "xfmt = md.DateFormatter('%Y-%m-%d')\n",
    "ax.xaxis.set_major_formatter(xfmt)\n",
    "\n",
    "# Rotate ticks on x axis and set figure size\n",
    "plt.xticks(rotation = 90)\n",
    "plt.rcParams[\"figure.figsize\"] = (12,9)\n",
    "\n",
    "plt.show()"
   ]
  },
  {
   "cell_type": "code",
   "execution_count": 5,
   "metadata": {},
   "outputs": [
    {
     "data": {
      "text/html": [
       "<div>\n",
       "<style scoped>\n",
       "    .dataframe tbody tr th:only-of-type {\n",
       "        vertical-align: middle;\n",
       "    }\n",
       "\n",
       "    .dataframe tbody tr th {\n",
       "        vertical-align: top;\n",
       "    }\n",
       "\n",
       "    .dataframe thead th {\n",
       "        text-align: right;\n",
       "    }\n",
       "</style>\n",
       "<table border=\"1\" class=\"dataframe\">\n",
       "  <thead>\n",
       "    <tr style=\"text-align: right;\">\n",
       "      <th></th>\n",
       "      <th>prcp</th>\n",
       "    </tr>\n",
       "  </thead>\n",
       "  <tbody>\n",
       "    <tr>\n",
       "      <th>count</th>\n",
       "      <td>2015.000000</td>\n",
       "    </tr>\n",
       "    <tr>\n",
       "      <th>mean</th>\n",
       "      <td>0.176462</td>\n",
       "    </tr>\n",
       "    <tr>\n",
       "      <th>std</th>\n",
       "      <td>0.460288</td>\n",
       "    </tr>\n",
       "    <tr>\n",
       "      <th>min</th>\n",
       "      <td>0.000000</td>\n",
       "    </tr>\n",
       "    <tr>\n",
       "      <th>25%</th>\n",
       "      <td>0.000000</td>\n",
       "    </tr>\n",
       "    <tr>\n",
       "      <th>50%</th>\n",
       "      <td>0.020000</td>\n",
       "    </tr>\n",
       "    <tr>\n",
       "      <th>75%</th>\n",
       "      <td>0.130000</td>\n",
       "    </tr>\n",
       "    <tr>\n",
       "      <th>max</th>\n",
       "      <td>6.700000</td>\n",
       "    </tr>\n",
       "  </tbody>\n",
       "</table>\n",
       "</div>"
      ],
      "text/plain": [
       "              prcp\n",
       "count  2015.000000\n",
       "mean      0.176462\n",
       "std       0.460288\n",
       "min       0.000000\n",
       "25%       0.000000\n",
       "50%       0.020000\n",
       "75%       0.130000\n",
       "max       6.700000"
      ]
     },
     "execution_count": 5,
     "metadata": {},
     "output_type": "execute_result"
    }
   ],
   "source": [
    "# Summary statistics for the precipitation data\n",
    "precipitation_df.describe()"
   ]
  },
  {
   "cell_type": "markdown",
   "metadata": {},
   "source": [
    "# Station Analysis"
   ]
  },
  {
   "cell_type": "code",
   "execution_count": 6,
   "metadata": {},
   "outputs": [
    {
     "name": "stdout",
     "output_type": "stream",
     "text": [
      "Number of stations is 9\n"
     ]
    }
   ],
   "source": [
    "# Total number of stations\n",
    "print(f\"Number of stations is {sq.station_count()}\")"
   ]
  },
  {
   "cell_type": "code",
   "execution_count": 7,
   "metadata": {},
   "outputs": [
    {
     "data": {
      "text/html": [
       "<div>\n",
       "<style scoped>\n",
       "    .dataframe tbody tr th:only-of-type {\n",
       "        vertical-align: middle;\n",
       "    }\n",
       "\n",
       "    .dataframe tbody tr th {\n",
       "        vertical-align: top;\n",
       "    }\n",
       "\n",
       "    .dataframe thead th {\n",
       "        text-align: right;\n",
       "    }\n",
       "</style>\n",
       "<table border=\"1\" class=\"dataframe\">\n",
       "  <thead>\n",
       "    <tr style=\"text-align: right;\">\n",
       "      <th></th>\n",
       "      <th>Station name</th>\n",
       "      <th>Observation counts</th>\n",
       "    </tr>\n",
       "  </thead>\n",
       "  <tbody>\n",
       "    <tr>\n",
       "      <th>0</th>\n",
       "      <td>WAIHEE 837.5, HI US</td>\n",
       "      <td>2772</td>\n",
       "    </tr>\n",
       "    <tr>\n",
       "      <th>1</th>\n",
       "      <td>KANEOHE 838.1, HI US</td>\n",
       "      <td>2696</td>\n",
       "    </tr>\n",
       "    <tr>\n",
       "      <th>2</th>\n",
       "      <td>WAIKIKI 717.2, HI US</td>\n",
       "      <td>2685</td>\n",
       "    </tr>\n",
       "    <tr>\n",
       "      <th>3</th>\n",
       "      <td>WAIMANALO EXPERIMENTAL FARM, HI US</td>\n",
       "      <td>2572</td>\n",
       "    </tr>\n",
       "    <tr>\n",
       "      <th>4</th>\n",
       "      <td>MANOA LYON ARBO 785.2, HI US</td>\n",
       "      <td>2484</td>\n",
       "    </tr>\n",
       "    <tr>\n",
       "      <th>5</th>\n",
       "      <td>KUALOA RANCH HEADQUARTERS 886.9, HI US</td>\n",
       "      <td>1937</td>\n",
       "    </tr>\n",
       "    <tr>\n",
       "      <th>6</th>\n",
       "      <td>HONOLULU OBSERVATORY 702.2, HI US</td>\n",
       "      <td>1932</td>\n",
       "    </tr>\n",
       "    <tr>\n",
       "      <th>7</th>\n",
       "      <td>PEARL CITY, HI US</td>\n",
       "      <td>683</td>\n",
       "    </tr>\n",
       "    <tr>\n",
       "      <th>8</th>\n",
       "      <td>UPPER WAHIAWA 874.3, HI US</td>\n",
       "      <td>342</td>\n",
       "    </tr>\n",
       "  </tbody>\n",
       "</table>\n",
       "</div>"
      ],
      "text/plain": [
       "                             Station name  Observation counts\n",
       "0                     WAIHEE 837.5, HI US                2772\n",
       "1                    KANEOHE 838.1, HI US                2696\n",
       "2                    WAIKIKI 717.2, HI US                2685\n",
       "3      WAIMANALO EXPERIMENTAL FARM, HI US                2572\n",
       "4            MANOA LYON ARBO 785.2, HI US                2484\n",
       "5  KUALOA RANCH HEADQUARTERS 886.9, HI US                1937\n",
       "6       HONOLULU OBSERVATORY 702.2, HI US                1932\n",
       "7                       PEARL CITY, HI US                 683\n",
       "8              UPPER WAHIAWA 874.3, HI US                 342"
      ]
     },
     "execution_count": 7,
     "metadata": {},
     "output_type": "execute_result"
    }
   ],
   "source": [
    "# Observation counts per station in descending order\n",
    "station_obs_df = pd.DataFrame(sq.station_obs(), columns = [\"Station name\", \"Observation counts\"])\n",
    "station_obs_df"
   ]
  },
  {
   "cell_type": "code",
   "execution_count": 8,
   "metadata": {},
   "outputs": [
    {
     "name": "stdout",
     "output_type": "stream",
     "text": [
      "Station WAIHEE 837.5, HI US had the most observation counts being 2772\n"
     ]
    }
   ],
   "source": [
    "# Most active station\n",
    "most_active = station_obs_df.loc[station_obs_df[\"Observation counts\"].idxmax()]\n",
    "x = most_active[\"Station name\"]\n",
    "y = most_active[\"Observation counts\"]\n",
    "print(f\"Station {x} had the most observation counts being {y}\")"
   ]
  },
  {
   "cell_type": "code",
   "execution_count": 9,
   "metadata": {},
   "outputs": [
    {
     "data": {
      "image/png": "[encoded data removed]",
      "text/plain": [
       "<matplotlib.figure.Figure at 0x23925c56048>"
      ]
     },
     "metadata": {},
     "output_type": "display_data"
    }
   ],
   "source": [
    "# Plot the results as a histogram with `bins=12`\n",
    "tobs_df = pd.DataFrame(sq.year_observation(x), columns=[\"tobs\"])\n",
    "x_axis = tobs_df[\"tobs\"]\n",
    "\n",
    "# Set variables\n",
    "bins = 12\n",
    "bar_width = 1\n",
    "min_temp = tobs_df[\"tobs\"].min()\n",
    "max_temp = tobs_df[\"tobs\"].max()\n",
    "tick_values = [x for x in np.arange(min_temp, max_temp, 1)]\n",
    "\n",
    "# Set grid layout\n",
    "ax = plt.axes(facecolor='lightgrey')\n",
    "plt.grid(color='gray', linestyle='-')\n",
    "\n",
    "# Create bar plot\n",
    "plt.hist(x_axis, bins = bins, facecolor='blue', edgecolor='darkblue')\n",
    "\n",
    "# Set grid axes behind figure\n",
    "ax = plt.gca()\n",
    "ax.set_axisbelow(True)\n",
    "\n",
    "# Set labels and scales\n",
    "plt.title(f\"Temperature frequences for {x} between {(datetime.strptime(sq.first_date()[0],'%Y-%m-%d').date() + timedelta(days=1)).strftime('%Y-%m-%d')} and {sq.first_date()[1]}\")\n",
    "plt.ylabel(\"Frequency\", fontsize = 14, fontweight = \"bold\")\n",
    "plt.xlabel(\"Temperature (°F)\", fontsize = 14, fontweight = \"bold\")\n",
    "plt.xlim(min_temp,max_temp)\n",
    "plt.xticks(tick_values,[x for x in tick_values])\n",
    "\n",
    "# Set figure size\n",
    "plt.rcParams[\"figure.figsize\"] = (12,9)\n",
    "\n",
    "plt.show()"
   ]
  },
  {
   "cell_type": "markdown",
   "metadata": {},
   "source": [
    "# Temperature Analysis"
   ]
  },
  {
   "cell_type": "code",
   "execution_count": 10,
   "metadata": {},
   "outputs": [
    {
     "name": "stdout",
     "output_type": "stream",
     "text": [
      "Enter start for your trip (use YYYY-MM-DD format): 2018-05-02\n",
      "Enter end for your trip (use YYYY-MM-DD format): 2018-05-12\n",
      "\n",
      "Temperature normals for your planned trip between 2018-05-02 and 2018-05-12 are: \n",
      "\n",
      "minimum temperature (°F): 66 \n",
      "maximum temperature (°F): 80 \n",
      "average temperature (°F): 75\n"
     ]
    }
   ],
   "source": [
    "# Use the `calc_temps` function to calculate the min, avg, and max temperatures for your trip \n",
    "# using the matching dates from the previous year (i.e. use \"2017-01-01\" if your trip start date was \"2018-01-01\")\n",
    "\n",
    "trip_start  = input(\"Enter start for your trip (use YYYY-MM-DD format): \")\n",
    "trip_end = input(\"Enter end for your trip (use YYYY-MM-DD format): \")\n",
    "\n",
    "# Create list with min, avg and max temperature for your trip\n",
    "trip_temps = sq.calc_temps(trip_start, trip_end)\n",
    "\n",
    "min_temp = trip_temps[0]\n",
    "avg_temp = trip_temps[1]\n",
    "max_temp = trip_temps[2]\n",
    "\n",
    "print(\"\\n\"\n",
    "        f\"Temperature normals for your planned trip between {trip_start} and {trip_end} are: \\n\\n\"\n",
    "        f\"minimum temperature (°F): {min_temp} \\n\"\n",
    "        f\"maximum temperature (°F): {max_temp} \\n\"\n",
    "        f\"average temperature (°F): {avg_temp}\")"
   ]
  },
  {
   "cell_type": "code",
   "execution_count": 12,
   "metadata": {},
   "outputs": [
    {
     "data": {
      "image/png": "[encoded data removed]",
      "text/plain": [
       "<matplotlib.figure.Figure at 0x23925c92240>"
      ]
     },
     "metadata": {},
     "output_type": "display_data"
    }
   ],
   "source": [
    "# Plot daily normals (min, max and avg temperature) for your planned trip as a bar chart\n",
    "\n",
    "# Set standard error to difference between min and max temperature\n",
    "y_err = max_temp - min_temp\n",
    "\n",
    "# Set grid color\n",
    "ax = plt.gca()\n",
    "ax = plt.axes(facecolor='lightgray')\n",
    "\n",
    "# Create bar plot\n",
    "plt.bar(1, avg_temp, yerr = y_err, tick_label = \"\", color='green')\n",
    "\n",
    "# Set labels for axes\n",
    "plt.xlabel(\"Holiday time period\", {'fontsize': 12})\n",
    "plt.ylabel(\"Temp (°F)\", {'fontsize': 12, 'fontweight' : 'bold'})\n",
    "\n",
    "# Hide ticks on x axis\n",
    "plt.tick_params(axis='x', bottom = False)\n",
    "\n",
    "# Plot horizontal lines per 10 °F\n",
    "for i in np.arange(0, (max_temp//10+1)*10,10):\n",
    "    ax.axhline(i, color=\"gray\", lw = 0.5)\n",
    "\n",
    "# Set title and figure size\n",
    "plt.title(\"Trip avg temp\", {'fontsize': 12, 'fontweight' : 'bold'})\n",
    "plt.rcParams[\"figure.figsize\"] = (2,6)\n",
    "\n",
    "plt.show()"
   ]
  },
  {
   "cell_type": "code",
   "execution_count": 13,
   "metadata": {},
   "outputs": [
    {
     "name": "stdout",
     "output_type": "stream",
     "text": [
      "Enter start for your trip (use YYYY-MM-DD format): 2018-05-02\n",
      "Enter end for your trip (use YYYY-MM-DD format): 2018-05-12\n"
     ]
    },
    {
     "data": {
      "text/html": [
       "<div>\n",
       "<style scoped>\n",
       "    .dataframe tbody tr th:only-of-type {\n",
       "        vertical-align: middle;\n",
       "    }\n",
       "\n",
       "    .dataframe tbody tr th {\n",
       "        vertical-align: top;\n",
       "    }\n",
       "\n",
       "    .dataframe thead th {\n",
       "        text-align: right;\n",
       "    }\n",
       "</style>\n",
       "<table border=\"1\" class=\"dataframe\">\n",
       "  <thead>\n",
       "    <tr style=\"text-align: right;\">\n",
       "      <th></th>\n",
       "      <th>Station</th>\n",
       "      <th>Total prec</th>\n",
       "    </tr>\n",
       "  </thead>\n",
       "  <tbody>\n",
       "    <tr>\n",
       "      <th>0</th>\n",
       "      <td>USC00513117</td>\n",
       "      <td>2.07</td>\n",
       "    </tr>\n",
       "    <tr>\n",
       "      <th>1</th>\n",
       "      <td>USC00514830</td>\n",
       "      <td>1.91</td>\n",
       "    </tr>\n",
       "    <tr>\n",
       "      <th>2</th>\n",
       "      <td>USC00516128</td>\n",
       "      <td>2.56</td>\n",
       "    </tr>\n",
       "    <tr>\n",
       "      <th>3</th>\n",
       "      <td>USC00519281</td>\n",
       "      <td>2.69</td>\n",
       "    </tr>\n",
       "    <tr>\n",
       "      <th>4</th>\n",
       "      <td>USC00519397</td>\n",
       "      <td>0.01</td>\n",
       "    </tr>\n",
       "    <tr>\n",
       "      <th>5</th>\n",
       "      <td>USC00519523</td>\n",
       "      <td>0.74</td>\n",
       "    </tr>\n",
       "  </tbody>\n",
       "</table>\n",
       "</div>"
      ],
      "text/plain": [
       "       Station  Total prec\n",
       "0  USC00513117        2.07\n",
       "1  USC00514830        1.91\n",
       "2  USC00516128        2.56\n",
       "3  USC00519281        2.69\n",
       "4  USC00519397        0.01\n",
       "5  USC00519523        0.74"
      ]
     },
     "execution_count": 13,
     "metadata": {},
     "output_type": "execute_result"
    }
   ],
   "source": [
    "#Rainfall per weather station for previous year's matching dates (based on your trip dates)\n",
    "trip_prec_df = pd.DataFrame(sq.history_rainfall_trip(), columns=[\"Station\", \"Total prec\"])\n",
    "trip_prec_df"
   ]
  },
  {
   "cell_type": "code",
   "execution_count": 14,
   "metadata": {},
   "outputs": [
    {
     "name": "stdout",
     "output_type": "stream",
     "text": [
      "Enter date to calculate daily normals for (use MM-DD format): 09-01\n",
      "\n",
      "Daily normals for 09-01 are: \n",
      "\n",
      "minimum temperature (°F): 69 \n",
      "maximum temperature (°F): 82 \n",
      "average temperature (°F): 77.0\n"
     ]
    }
   ],
   "source": [
    "# Calculate daily normals (min, max and avg temperature) for a specific date (use format MM-DD)\n",
    "test_date = input(\"Enter date to calculate daily normals for (use MM-DD format): \")\n",
    "normals_list = [row for row in sq.daily_normals(test_date)]\n",
    "print(\"\\n\"\n",
    "      f\"Daily normals for {test_date} are: \\n\\n\"\n",
    "      f\"minimum temperature (°F): {sq.daily_normals(test_date)[0][0]} \\n\"\n",
    "      f\"maximum temperature (°F): {sq.daily_normals(test_date)[0][2]} \\n\"\n",
    "      f\"average temperature (°F): {sq.daily_normals(test_date)[0][1]}\")"
   ]
  },
  {
   "cell_type": "code",
   "execution_count": 15,
   "metadata": {},
   "outputs": [
    {
     "name": "stdout",
     "output_type": "stream",
     "text": [
      "Enter start for your trip (use YYYY-MM-DD format): 2018-05-02\n",
      "Enter end for your trip (use YYYY-MM-DD format): 2018-05-12\n"
     ]
    }
   ],
   "source": [
    "# Create a list of dates for your trip in the format %m-%d (MM-DD)\n",
    "## Convert start and end date of the trip to date\n",
    "\n",
    "trip_start  = input(\"Enter start for your trip (use YYYY-MM-DD format): \")\n",
    "trip_end = input(\"Enter end for your trip (use YYYY-MM-DD format): \")\n",
    "\n",
    "trip_start_conv = datetime.strptime(trip_start, '%Y-%m-%d').date()\n",
    "trip_end_conv = datetime.strptime(trip_end, '%Y-%m-%d').date()\n",
    "## Calculate length of trip (includes start and end date so add 1)\n",
    "trip_days = int((trip_end_conv - trip_start_conv).days)+1\n",
    "## Add to list in format %m-%d (MM-DD)\n",
    "#trip_list = [(trip_start_conv + timedelta(days = i),\n",
    "trip_list = [[(trip_start_conv + timedelta(days = i)).strftime('%Y-%m-%d'),\n",
    "             (trip_start_conv + timedelta(days = i)).strftime('%m-%d')] for i in range(0,trip_days)]\n",
    "## Convert start "
   ]
  },
  {
   "cell_type": "code",
   "execution_count": 16,
   "metadata": {},
   "outputs": [],
   "source": [
    "# Calculate the normals (min, max and avg temperature) using the daily_normals function \n",
    "# for each date string and append the results to a list\n",
    "daily_norm = []\n",
    "for trip_date in trip_list:\n",
    "    daily_norm.append([trip_date[0], sq.daily_normals(trip_date[1])[0][0], \n",
    "                       round(sq.daily_normals(trip_date[1])[0][1]), \n",
    "                       sq.daily_normals(trip_date[1])[0][2]])"
   ]
  },
  {
   "cell_type": "code",
   "execution_count": 17,
   "metadata": {},
   "outputs": [],
   "source": [
    "# Load the list of daily normals into a Pandas DataFrame and set the index equal to the date\n",
    "df = pd.DataFrame(daily_norm, columns = [\"date\",\"min_temp\",\"avg_temp\",\"max_temp\"])\n",
    "df[\"date\"] = pd.to_datetime(df[\"date\"]).dt.date\n",
    "df.set_index([\"date\"], inplace = True)"
   ]
  },
  {
   "cell_type": "code",
   "execution_count": 18,
   "metadata": {},
   "outputs": [
    {
     "data": {
      "image/png": "[encoded data removed]",
      "text/plain": [
       "<matplotlib.figure.Figure at 0x23925be4e48>"
      ]
     },
     "metadata": {},
     "output_type": "display_data"
    }
   ],
   "source": [
    "# Use Pandas to plot an area plot (stacked=False) for the daily normals\n",
    "\n",
    "# Variables\n",
    "x_min = df.index.min()\n",
    "x_max = df.index.max() + timedelta(days=1)\n",
    "y_min = 10*(df.max_temp.min()//10-1)\n",
    "y_max = 10*(df.max_temp.max()//10+1)\n",
    "\n",
    "# Create area plot\n",
    "df.plot(kind='area', stacked=False, rot = 90, figsize=(9,5))\n",
    "\n",
    "# Set labels and title\n",
    "plt.title(f\"Daily normals between {trip_start} and {trip_end}\", size=14)\n",
    "plt.xlabel(\"Date\", size = 14)\n",
    "plt.ylabel(\"Temp (°F)\", size=14)\n",
    "\n",
    "# Set scale and ticks\n",
    "plt.ylim(y_min,y_max)\n",
    "plt.yticks(np.arange(y_min,y_max,5))\n",
    "plt.xticks(np.arange(x_min,x_max,1))\n",
    "\n",
    "# Set grid \n",
    "plt.grid(color='gray', linestyle='solid')\n",
    "ax = plt.gca()\n",
    "ax.set_facecolor(\"lightgrey\")\n",
    "\n",
    "plt.show()"
   ]
  },
  {
   "cell_type": "code",
   "execution_count": null,
   "metadata": {},
   "outputs": [],
   "source": []
  }
 ],
 "metadata": {
  "kernelspec": {
   "display_name": "Python 3",
   "language": "python",
   "name": "python3"
  },
  "language_info": {
   "codemirror_mode": {
    "name": "ipython",
    "version": 3
   },
   "file_extension": ".py",
   "mimetype": "text/x-python",
   "name": "python",
   "nbconvert_exporter": "python",
   "pygments_lexer": "ipython3",
   "version": "3.6.4"
  }
 },
 "nbformat": 4,
 "nbformat_minor": 2
}
