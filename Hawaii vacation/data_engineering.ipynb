{
 "cells": [
  {
   "cell_type": "markdown",
   "metadata": {},
   "source": [
    "# Data engineering\n",
    "\n",
    "In this section we'll explore the climate data for Hawaii by:\n",
    "\n",
    "+ checking for missing data (null values)\n",
    "+ checking for duplicates\n",
    "\n",
    "## Results\n",
    "\n",
    "No duplicate data was found in either the station data nor in the measurements data.\n",
    "There was about 7.4 % of null values found in the measurements data (1447 rows on a total of 19550 rows).\n",
    "\n",
    "The rows with null values were deleted from the original measurements data file.\n",
    "A percentage of 7.4% seems on a total of 19550 rows seems acceptable in this case.\n",
    "Be aware however that that might not always be the case.\n",
    "And that statistical analysis might be needed to determine whether deleting data might have a negative impact on data reliability hence on data analysis reliability."
   ]
  },
  {
   "cell_type": "code",
   "execution_count": 2,
   "metadata": {},
   "outputs": [],
   "source": [
    "# Dependencies\n",
    "import pandas as pd\n",
    "import os"
   ]
  },
  {
   "cell_type": "code",
   "execution_count": 3,
   "metadata": {},
   "outputs": [
    {
     "name": "stdout",
     "output_type": "stream",
     "text": [
      "Enter the name of the measurement file you want to analyze (without extension): hawaii_measurements\n",
      "Enter the name of the station file you want to analyze (without extension): hawaii_stations\n"
     ]
    }
   ],
   "source": [
    "# Load files into dataframe\n",
    "## Measurement file\n",
    "input_file_m = input(\"Enter the name of the measurement file you want to analyze (without extension): \") + \".csv\"\n",
    "filepath_m = os.path.join('Resources', input_file_m)\n",
    "measurement_df = pd.read_csv(filepath_m)\n",
    "## Station file\n",
    "input_file_s = input(\"Enter the name of the station file you want to analyze (without extension): \") + \".csv\"\n",
    "filepath_s = os.path.join('Resources', input_file_s)\n",
    "station_df = pd.read_csv(filepath_s)"
   ]
  },
  {
   "cell_type": "code",
   "execution_count": 4,
   "metadata": {},
   "outputs": [
    {
     "data": {
      "text/plain": [
       "station       0\n",
       "date          0\n",
       "prcp       1447\n",
       "tobs          0\n",
       "dtype: int64"
      ]
     },
     "execution_count": 4,
     "metadata": {},
     "output_type": "execute_result"
    }
   ],
   "source": [
    "# Check for NaN values in measurements data:\n",
    "measurement_df.isnull().sum()"
   ]
  },
  {
   "cell_type": "code",
   "execution_count": 5,
   "metadata": {},
   "outputs": [
    {
     "data": {
      "text/plain": [
       "station      0\n",
       "name         0\n",
       "latitude     0\n",
       "longitude    0\n",
       "elevation    0\n",
       "dtype: int64"
      ]
     },
     "execution_count": 5,
     "metadata": {},
     "output_type": "execute_result"
    }
   ],
   "source": [
    "# Check for NaN values in stations data:\n",
    "station_df.isnull().sum()"
   ]
  },
  {
   "cell_type": "code",
   "execution_count": 6,
   "metadata": {},
   "outputs": [
    {
     "data": {
      "text/plain": [
       "station    0.0\n",
       "date       0.0\n",
       "prcp       0.0\n",
       "tobs       0.0\n",
       "dtype: float64"
      ]
     },
     "execution_count": 6,
     "metadata": {},
     "output_type": "execute_result"
    }
   ],
   "source": [
    "# Check for duplicates in measurements data:\n",
    "measurement_df[measurement_df.duplicated(keep=False)].sum()"
   ]
  },
  {
   "cell_type": "code",
   "execution_count": null,
   "metadata": {},
   "outputs": [],
   "source": [
    "# Check for duplicates in stations data:\n",
    "## Stations:\n",
    "station_df[station_df.duplicated(keep=False)].sum()"
   ]
  },
  {
   "cell_type": "code",
   "execution_count": 9,
   "metadata": {},
   "outputs": [],
   "source": [
    "# Precipitation is missing for 1447 rows in measurement_df\n",
    "# There's no clues as for what the missing data might be so we'll delete all rows with null values:\n",
    "measurement_df = measurement_df.dropna()"
   ]
  },
  {
   "cell_type": "code",
   "execution_count": 10,
   "metadata": {},
   "outputs": [
    {
     "data": {
      "text/plain": [
       "station    0\n",
       "date       0\n",
       "prcp       0\n",
       "tobs       0\n",
       "dtype: int64"
      ]
     },
     "execution_count": 10,
     "metadata": {},
     "output_type": "execute_result"
    }
   ],
   "source": [
    "# Check again:\n",
    "measurement_df.isnull().sum()"
   ]
  },
  {
   "cell_type": "code",
   "execution_count": 11,
   "metadata": {},
   "outputs": [],
   "source": [
    "# Save cleaned csv files with prefix clean_\n",
    "prefix = \"clean_\"\n",
    "measurement_df.to_csv(prefix+input_file_m, encoding = \"utf-8-sig\", index = False)\n",
    "station_df.to_csv(prefix+input_file_s, encoding = \"utf-8-sig\", index = False)"
   ]
  }
 ],
 "metadata": {
  "kernelspec": {
   "display_name": "Python 3",
   "language": "python",
   "name": "python3"
  },
  "language_info": {
   "codemirror_mode": {
    "name": "ipython",
    "version": 3
   },
   "file_extension": ".py",
   "mimetype": "text/x-python",
   "name": "python",
   "nbconvert_exporter": "python",
   "pygments_lexer": "ipython3",
   "version": "3.6.4"
  }
 },
 "nbformat": 4,
 "nbformat_minor": 2
}
